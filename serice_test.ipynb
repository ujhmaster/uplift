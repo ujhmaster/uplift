{
 "cells": [
  {
   "cell_type": "code",
   "execution_count": 1,
   "metadata": {},
   "outputs": [],
   "source": [
    "import numpy as np\n",
    "import pandas as pd\n",
    "\n",
    "discount = pd.read_csv(\"discountuplift.csv\", sep=\"\\t\")"
   ]
  },
  {
   "cell_type": "code",
   "execution_count": 2,
   "metadata": {},
   "outputs": [],
   "source": [
    "import requests\n",
    "\n",
    "feature_cols = [\n",
    "    \"recency\",\n",
    "    \"history\",\n",
    "    \"used_discount\",\n",
    "    \"used_bogo\",\n",
    "    \"is_referral\",\n",
    "    \"zip_code_Rural\",\n",
    "    \"zip_code_Surburban\",\n",
    "    \"zip_code_Urban\",\n",
    "    \"channel_Multichannel\",\n",
    "    \"channel_Phone\",\n",
    "    \"channel_Web\",\n",
    "]"
   ]
  },
  {
   "cell_type": "code",
   "execution_count": 5,
   "metadata": {},
   "outputs": [
    {
     "name": "stdout",
     "output_type": "stream",
     "text": [
      "Ответ сервера: {'prediction': 0.12458471760797342}\n"
     ]
    }
   ],
   "source": [
    "\n",
    "\n",
    "# пример данных для запроса\n",
    "data = {\n",
    "    \"features\": discount[feature_cols].sample(1).values.tolist()\n",
    "}\n",
    "\n",
    "# URL сервиса\n",
    "url = \"http://localhost:8000/predict\"\n",
    "\n",
    "# выполнение POST-запроса\n",
    "response = requests.post(url, json=data)\n",
    "\n",
    "# проверка ответа\n",
    "if response.status_code == 200:\n",
    "    print(\"Ответ сервера:\", response.json())\n",
    "else:\n",
    "    print(\"Ошибка:\", response.status_code, response.text)"
   ]
  }
 ],
 "metadata": {
  "kernelspec": {
   "display_name": ".venv_uplift",
   "language": "python",
   "name": "python3"
  },
  "language_info": {
   "codemirror_mode": {
    "name": "ipython",
    "version": 3
   },
   "file_extension": ".py",
   "mimetype": "text/x-python",
   "name": "python",
   "nbconvert_exporter": "python",
   "pygments_lexer": "ipython3",
   "version": "3.10.12"
  }
 },
 "nbformat": 4,
 "nbformat_minor": 2
}
